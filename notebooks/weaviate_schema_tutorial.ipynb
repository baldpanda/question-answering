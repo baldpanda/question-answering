{
 "cells": [
  {
   "cell_type": "markdown",
   "id": "2845cdcb-e83b-47a3-b337-2a9653d83a36",
   "metadata": {},
   "source": [
    "### Schemas - Weaviate"
   ]
  },
  {
   "cell_type": "markdown",
   "id": "ba2b2c0b-88d8-4bd5-a509-5394259f3370",
   "metadata": {},
   "source": [
    "Following [this](https://weaviate.io/developers/weaviate/quickstart) Weaviate tutorial"
   ]
  },
  {
   "cell_type": "code",
   "execution_count": 2,
   "id": "02fc1cf7-8a02-4291-96e4-555491441451",
   "metadata": {},
   "outputs": [],
   "source": [
    "import weaviate\n",
    "import json\n",
    "import os\n",
    "import requests\n",
    "from dotenv import load_dotenv"
   ]
  },
  {
   "cell_type": "code",
   "execution_count": 3,
   "id": "e38bf6c1-f04d-40a7-ba55-090ed8bf6914",
   "metadata": {},
   "outputs": [],
   "source": [
    "JEOPARDY_DATA_SOURCE = \"https://raw.githubusercontent.com/weaviate-tutorials/quickstart/main/data/jeopardy_tiny.json\""
   ]
  },
  {
   "cell_type": "code",
   "execution_count": 5,
   "id": "2eb972e6-04c6-4a03-b627-905cac7f31b2",
   "metadata": {},
   "outputs": [],
   "source": [
    "open_ai_api_key = os.getenv(\"OPENAI_APIKEY\")"
   ]
  },
  {
   "cell_type": "code",
   "execution_count": 7,
   "id": "7893d4ed-e273-4613-b298-a2f0b1fa8734",
   "metadata": {},
   "outputs": [],
   "source": [
    "client = weaviate.Client(\n",
    "    url = \"http://localhost:8080\",  # Replace with your endpoint\n",
    "    additional_headers = {\n",
    "        \"X-OpenAI-Api-Key\": open_ai_api_key  # Replace with your inference API key\n",
    "    }\n",
    ")"
   ]
  },
  {
   "cell_type": "markdown",
   "id": "3f3fff08-4e15-4bf2-a4e7-982b7224765b",
   "metadata": {},
   "source": [
    "### Load in Data"
   ]
  },
  {
   "cell_type": "code",
   "execution_count": 8,
   "id": "e341b160-bb4a-474b-90c3-f94a3115e285",
   "metadata": {},
   "outputs": [],
   "source": [
    "resp = requests.get(JEOPARDY_DATA_SOURCE)\n",
    "data = json.loads(resp.text)"
   ]
  },
  {
   "cell_type": "code",
   "execution_count": 9,
   "id": "bd78e8b5-315f-4f40-a0f7-9ef414026799",
   "metadata": {},
   "outputs": [
    {
     "data": {
      "text/plain": [
       "[{'Category': 'SCIENCE',\n",
       "  'Question': 'This organ removes excess glucose from the blood & stores it as glycogen',\n",
       "  'Answer': 'Liver'},\n",
       " {'Category': 'ANIMALS',\n",
       "  'Question': \"It's the only living mammal in the order Proboseidea\",\n",
       "  'Answer': 'Elephant'},\n",
       " {'Category': 'ANIMALS',\n",
       "  'Question': 'The gavial looks very much like a crocodile except for this bodily feature',\n",
       "  'Answer': 'the nose or snout'},\n",
       " {'Category': 'ANIMALS',\n",
       "  'Question': 'Weighing around a ton, the eland is the largest species of this animal in Africa',\n",
       "  'Answer': 'Antelope'},\n",
       " {'Category': 'ANIMALS',\n",
       "  'Question': 'Heaviest of all poisonous snakes is this North American rattlesnake',\n",
       "  'Answer': 'the diamondback rattler'},\n",
       " {'Category': 'SCIENCE',\n",
       "  'Question': \"2000 news: the Gunnison sage grouse isn't just another northern sage grouse, but a new one of this classification\",\n",
       "  'Answer': 'species'},\n",
       " {'Category': 'SCIENCE',\n",
       "  'Question': 'A metal that is ductile can be pulled into this while cold & under pressure',\n",
       "  'Answer': 'wire'},\n",
       " {'Category': 'SCIENCE',\n",
       "  'Question': 'In 1953 Watson & Crick built a model of the molecular structure of this, the gene-carrying substance',\n",
       "  'Answer': 'DNA'},\n",
       " {'Category': 'SCIENCE',\n",
       "  'Question': 'Changes in the tropospheric layer of this are what gives us weather',\n",
       "  'Answer': 'the atmosphere'},\n",
       " {'Category': 'SCIENCE',\n",
       "  'Question': 'In 70-degree air, a plane traveling at about 1,130 feet per second breaks it',\n",
       "  'Answer': 'Sound barrier'}]"
      ]
     },
     "execution_count": 9,
     "metadata": {},
     "output_type": "execute_result"
    }
   ],
   "source": [
    "data"
   ]
  },
  {
   "cell_type": "markdown",
   "id": "0f2fdf6b-e6a2-4dab-a705-242f7276dcaf",
   "metadata": {},
   "source": [
    "### Defining a Class for the Data"
   ]
  },
  {
   "cell_type": "markdown",
   "id": "1f247510-782f-4827-8486-1ce4eae11f83",
   "metadata": {},
   "source": [
    "*Note* - a class is a data collection in Weaviate that is used to store objects. Creating a class is anagolous to creating a table in a relational DB"
   ]
  },
  {
   "cell_type": "code",
   "execution_count": 10,
   "id": "3742525c-4182-4496-a69b-4ee7ca8961cf",
   "metadata": {},
   "outputs": [],
   "source": [
    "class_obj = {\n",
    "    \"class\": \"Question\",\n",
    "    \"vectorizer\": \"text2vec-openai\",  # If set to \"none\" you must always provide vectors yourself. Could be any other \"text2vec-*\" also.\n",
    "    \"moduleConfig\": {\n",
    "        \"text2vec-openai\": {},\n",
    "        \"generative-openai\": {}  # Ensure the `generative-openai` module is used for generative queries\n",
    "    }\n",
    "}\n",
    "\n",
    "client.schema.create_class(class_obj)"
   ]
  },
  {
   "cell_type": "markdown",
   "id": "c1076adf-f91c-4aca-b18a-16670000a27b",
   "metadata": {},
   "source": [
    "Loading the data into the DB"
   ]
  },
  {
   "cell_type": "code",
   "execution_count": 11,
   "id": "a4cb5ff5-46b5-4bc4-9a82-cce824ceac2b",
   "metadata": {},
   "outputs": [
    {
     "name": "stdout",
     "output_type": "stream",
     "text": [
      "importing question: 1\n",
      "importing question: 2\n",
      "importing question: 3\n",
      "importing question: 4\n",
      "importing question: 5\n",
      "importing question: 6\n",
      "importing question: 7\n",
      "importing question: 8\n",
      "importing question: 9\n",
      "importing question: 10\n"
     ]
    }
   ],
   "source": [
    "client.batch.configure(batch_size=100)  # Configure batch\n",
    "with client.batch as batch:  # Initialize a batch process\n",
    "    for i, d in enumerate(data):  # Batch import data\n",
    "        print(f\"importing question: {i+1}\")\n",
    "        properties = {\n",
    "            \"answer\": d[\"Answer\"],\n",
    "            \"question\": d[\"Question\"],\n",
    "            \"category\": d[\"Category\"],\n",
    "        }\n",
    "        batch.add_data_object(\n",
    "            data_object=properties,\n",
    "            class_name=\"Question\"\n",
    "        )"
   ]
  },
  {
   "cell_type": "markdown",
   "id": "c616d29b-6325-4e98-ad8d-86f528c2fbdf",
   "metadata": {},
   "source": [
    "### Querying the Data"
   ]
  },
  {
   "cell_type": "code",
   "execution_count": 12,
   "id": "61a4d2e1-6588-4b0a-bc32-83e78842e564",
   "metadata": {},
   "outputs": [],
   "source": [
    "response = (\n",
    "    client.query\n",
    "    .get(\"Question\", [\"question\", \"answer\", \"category\"])\n",
    "    .with_near_text({\"concepts\": [\"meteorology\"]})\n",
    "    .with_limit(2)\n",
    "    .do()\n",
    ")"
   ]
  },
  {
   "cell_type": "code",
   "execution_count": 13,
   "id": "1ee4225b-d976-402b-b123-0e16a45595a1",
   "metadata": {},
   "outputs": [
    {
     "data": {
      "text/plain": [
       "{'data': {'Get': {'Question': [{'answer': 'the atmosphere',\n",
       "     'category': 'SCIENCE',\n",
       "     'question': 'Changes in the tropospheric layer of this are what gives us weather'},\n",
       "    {'answer': 'Sound barrier',\n",
       "     'category': 'SCIENCE',\n",
       "     'question': 'In 70-degree air, a plane traveling at about 1,130 feet per second breaks it'}]}}}"
      ]
     },
     "execution_count": 13,
     "metadata": {},
     "output_type": "execute_result"
    }
   ],
   "source": [
    "response"
   ]
  },
  {
   "cell_type": "markdown",
   "id": "874bb6af-3355-433d-95d4-097944c48353",
   "metadata": {},
   "source": [
    "### Querying the Data with a Filter"
   ]
  },
  {
   "cell_type": "code",
   "execution_count": 19,
   "id": "fc195b7b-336c-4428-9380-218d0b7009ac",
   "metadata": {},
   "outputs": [
    {
     "name": "stdout",
     "output_type": "stream",
     "text": [
      "{\n",
      "    \"data\": {\n",
      "        \"Get\": {\n",
      "            \"Question\": [\n",
      "                {\n",
      "                    \"answer\": \"the nose or snout\",\n",
      "                    \"category\": \"ANIMALS\",\n",
      "                    \"question\": \"The gavial looks very much like a crocodile except for this bodily feature\"\n",
      "                },\n",
      "                {\n",
      "                    \"answer\": \"Elephant\",\n",
      "                    \"category\": \"ANIMALS\",\n",
      "                    \"question\": \"It's the only living mammal in the order Proboseidea\"\n",
      "                }\n",
      "            ]\n",
      "        }\n",
      "    }\n",
      "}\n"
     ]
    }
   ],
   "source": [
    "response = (\n",
    "    client.query\n",
    "    .get(\"Question\", [\"question\", \"answer\", \"category\"])\n",
    "    .with_near_text({\"concepts\": [\"trunk\"]})\n",
    "    .with_where({\n",
    "        \"path\": [\"category\"],\n",
    "        \"operator\": \"Equal\",\n",
    "        \"valueText\": \"ANIMALS\"\n",
    "    })\n",
    "    .with_limit(2)\n",
    "    .do()\n",
    ")\n",
    "\n",
    "print(json.dumps(response, indent=4))"
   ]
  },
  {
   "cell_type": "code",
   "execution_count": 20,
   "id": "b6b29499-6d76-4ebe-a823-f1149bbcae71",
   "metadata": {},
   "outputs": [
    {
     "name": "stdout",
     "output_type": "stream",
     "text": [
      "{\n",
      "    \"data\": {\n",
      "        \"Get\": {\n",
      "            \"Question\": [\n",
      "                {\n",
      "                    \"_additional\": {\n",
      "                        \"generate\": {\n",
      "                            \"error\": null,\n",
      "                            \"singleResult\": \"An elephant is a really big animal with a long trunk, big ears, and a strong body. They are usually gray in color. Elephants are very smart and friendly. They live in places called forests and grasslands. They eat lots of plants and fruits. They use their long trunk to grab food and drink water. Elephants also use their trunk to say hello to other elephants by touching them gently. They have big ears that help them hear really well. Elephants are very strong and can carry heavy things with their trunk. They are also great swimmers and love to play in the water. Elephants are loved by many people because they are so amazing and special!\"\n",
      "                        }\n",
      "                    },\n",
      "                    \"answer\": \"Elephant\",\n",
      "                    \"category\": \"ANIMALS\",\n",
      "                    \"question\": \"It's the only living mammal in the order Proboseidea\"\n",
      "                },\n",
      "                {\n",
      "                    \"_additional\": {\n",
      "                        \"generate\": {\n",
      "                            \"error\": null,\n",
      "                            \"singleResult\": \"Antelopes are like really fast and graceful animals that live in the wild. They have long legs and can run really, really fast! They have beautiful coats in different colors, like brown, tan, or even white. Antelopes have big eyes and ears that help them see and hear things around them. They eat grass and leaves, just like cows and horses. Sometimes, they live in big groups called herds, where they can all stay together and be safe. Antelopes are amazing jumpers too! They can leap really high and far, just like superheroes!\"\n",
      "                        }\n",
      "                    },\n",
      "                    \"answer\": \"Antelope\",\n",
      "                    \"category\": \"ANIMALS\",\n",
      "                    \"question\": \"Weighing around a ton, the eland is the largest species of this animal in Africa\"\n",
      "                }\n",
      "            ]\n",
      "        }\n",
      "    }\n",
      "}\n"
     ]
    }
   ],
   "source": [
    "response = (\n",
    "    client.query\n",
    "    .get(\"Question\", [\"question\", \"answer\", \"category\"])\n",
    "    .with_near_text({\"concepts\": [\"elephants\"]})\n",
    "    .with_generate(single_prompt=\"Explain {answer} as you might to a five-year-old.\")\n",
    "    .with_limit(2)\n",
    "    .do()\n",
    ")\n",
    "\n",
    "print(json.dumps(response, indent=4))"
   ]
  }
 ],
 "metadata": {
  "kernelspec": {
   "display_name": "Python 3 (ipykernel)",
   "language": "python",
   "name": "python3"
  },
  "language_info": {
   "codemirror_mode": {
    "name": "ipython",
    "version": 3
   },
   "file_extension": ".py",
   "mimetype": "text/x-python",
   "name": "python",
   "nbconvert_exporter": "python",
   "pygments_lexer": "ipython3",
   "version": "3.10.4"
  }
 },
 "nbformat": 4,
 "nbformat_minor": 5
}
