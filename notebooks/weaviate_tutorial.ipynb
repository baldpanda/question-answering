{
 "cells": [
  {
   "cell_type": "markdown",
   "id": "59d4ab56-88d7-4048-8faf-8db35fac9f04",
   "metadata": {},
   "source": [
    "### Weaviate Tutorial"
   ]
  },
  {
   "cell_type": "markdown",
   "id": "f18df430-97d8-4366-ac10-1b72fadbdfe1",
   "metadata": {},
   "source": [
    "Following the Weaviate tutorial in [this](https://colab.research.google.com/github/semi-technologies/weaviate-examples/blob/main/harrypotter-qa-haystack-weaviate/COLAB-HarryPotter-QA-Haystack-Weaviate.ipynb) colab notebook"
   ]
  },
  {
   "cell_type": "code",
   "execution_count": 23,
   "id": "61578293-edc0-437c-8035-f40f5c56258c",
   "metadata": {},
   "outputs": [],
   "source": [
    "from haystack.document_stores import WeaviateDocumentStore\n",
    "from haystack.pipelines import ExtractiveQAPipeline\n",
    "from haystack.nodes import EmbeddingRetriever\n",
    "from haystack.nodes import FARMReader\n",
    "from haystack.utils import launch_weaviate\n",
    "from haystack.utils import clean_wiki_text\n",
    "from haystack.utils import print_answers\n",
    "\n",
    "import pandas as pd"
   ]
  },
  {
   "cell_type": "markdown",
   "id": "20bc7851-9f35-4459-bdc4-fd1b3154973c",
   "metadata": {},
   "source": [
    "### Load in the Data"
   ]
  },
  {
   "cell_type": "markdown",
   "id": "29568ddd-e720-493c-94d2-f702d605bb3a",
   "metadata": {},
   "source": [
    "The tutorial makes use of the [Harry Potter Wiki](https://harrypotter.fandom.com/wiki/Main_Page) and have loaded it into an S3 bucket as a CSV"
   ]
  },
  {
   "cell_type": "code",
   "execution_count": 2,
   "id": "02ffd269-8a81-46bb-95ba-70a3673d38ac",
   "metadata": {},
   "outputs": [],
   "source": [
    "harry_potter_df = pd.read_csv(\"https://s3.eu-central-1.amazonaws.com/deepset.ai-farm-qa/datasets/documents/harry_potter_wiki.csv\")"
   ]
  },
  {
   "cell_type": "code",
   "execution_count": 3,
   "id": "8bea2ac5-094a-4f83-b4ca-59d63675fc58",
   "metadata": {},
   "outputs": [
    {
     "data": {
      "text/plain": [
       "(13674, 6)"
      ]
     },
     "execution_count": 3,
     "metadata": {},
     "output_type": "execute_result"
    }
   ],
   "source": [
    "harry_potter_df.shape"
   ]
  },
  {
   "cell_type": "markdown",
   "id": "3226a943-8d25-4bc7-81d0-367a221a3b6d",
   "metadata": {},
   "source": [
    "harry_potter_df.head()"
   ]
  },
  {
   "cell_type": "code",
   "execution_count": 4,
   "id": "b33e99f2-c01a-4460-ae67-341b67b443cf",
   "metadata": {},
   "outputs": [
    {
     "data": {
      "text/plain": [
       "'Gryffindor\\n\\nGryffindor is one of the four Houses of Hogwarts School of Witchcraft and Wizardry and w'"
      ]
     },
     "execution_count": 4,
     "metadata": {},
     "output_type": "execute_result"
    }
   ],
   "source": [
    "harry_potter_df[\"text\"][0][0:100]"
   ]
  },
  {
   "cell_type": "markdown",
   "id": "01e91268-3526-44f2-9da9-4827108d106b",
   "metadata": {},
   "source": [
    "Tutorial makes use of a `clean_wiki_text` method to clean up the data, which is a Haystack utility"
   ]
  },
  {
   "cell_type": "code",
   "execution_count": 5,
   "id": "0c2c9256-3ae1-443f-b751-16b8b956ccf0",
   "metadata": {},
   "outputs": [
    {
     "name": "stdout",
     "output_type": "stream",
     "text": [
      "Help on function clean_wiki_text in module haystack.utils.cleaning:\n",
      "\n",
      "clean_wiki_text(text: str) -> str\n",
      "    Clean wikipedia text by removing multiple new lines, removing extremely short lines,\n",
      "    adding paragraph breaks and removing empty paragraphs\n",
      "\n"
     ]
    }
   ],
   "source": [
    "help(clean_wiki_text)"
   ]
  },
  {
   "cell_type": "markdown",
   "id": "4065c6a6-b059-48b5-a877-a00a051788c4",
   "metadata": {},
   "source": [
    "### Convert the Data into Required Format"
   ]
  },
  {
   "cell_type": "markdown",
   "id": "bece294b-8965-40c2-a523-0b1b20c0a500",
   "metadata": {},
   "source": [
    "One of the key data structures used in Haystack is a `Document`. They encapsulate the content of a document along with its associated metadata. It typically contains:\n",
    "- The text of the document.\n",
    "- Metadata like the document's name, source, or any other custom fields.\n",
    "- Optionally, embeddings that represent the content in a dense vector format.\n",
    "\n",
    "The Document class is used within the Haystack framework for various tasks like indexing, retrieval, and answering questions. It provides a standardized way to handle documents across different stages of the information retrieval and question-answering processes."
   ]
  },
  {
   "cell_type": "code",
   "execution_count": 6,
   "id": "721f9687-6c1f-4cf6-8ec4-a83bd0fc1c77",
   "metadata": {},
   "outputs": [],
   "source": [
    "harry_potter_dicts = [\n",
    "    {'content': clean_wiki_text(row.text),'meta': {'name': row['name'],'url': row.url}} for ix, row in harry_potter_df.iterrows()\n",
    "]"
   ]
  },
  {
   "cell_type": "markdown",
   "id": "df1a9e54-a522-444f-b89e-c52285fd0d6e",
   "metadata": {},
   "source": [
    "### Loading the Data into a Vector Database"
   ]
  },
  {
   "cell_type": "markdown",
   "id": "a3d9cff5-cd60-4629-b3fe-fa2401a8b870",
   "metadata": {},
   "source": [
    "A *vector database* is a database designed to efficiently store and retrieve high dimensional data. They're often used for efficient similarity search in applications such as natural language processing by modelling text as high dimensional vectors. [Weaviate](https://weaviate.io/developers/weaviate) is an open source vector database"
   ]
  },
  {
   "cell_type": "markdown",
   "id": "445debe4-5c0a-46c1-9d05-d4fdff84714a",
   "metadata": {},
   "source": [
    "There are multiple ways to host a Weaviate Vector Database such as self-hosted using a container and their managed service. For the purpose of following the tutorial previously referenced, going to use a local implementation"
   ]
  },
  {
   "cell_type": "markdown",
   "id": "24655612-4d0c-4680-96f1-6289b05009a3",
   "metadata": {},
   "source": [
    "Note that Docker Daemon needed to be running for the below to work"
   ]
  },
  {
   "cell_type": "code",
   "execution_count": 7,
   "id": "9ab55ed6-8596-4417-97a7-89c7dffabc96",
   "metadata": {},
   "outputs": [],
   "source": [
    "launch_weaviate()"
   ]
  },
  {
   "cell_type": "code",
   "execution_count": 63,
   "id": "4cc62dd2-b041-4071-b45a-95e7f44690ff",
   "metadata": {},
   "outputs": [],
   "source": [
    "document_store = WeaviateDocumentStore(recreate_index=True)"
   ]
  },
  {
   "cell_type": "code",
   "execution_count": 64,
   "id": "3fa29e29-05d9-4a4d-a406-f400b9c2c82d",
   "metadata": {},
   "outputs": [
    {
     "name": "stderr",
     "output_type": "stream",
     "text": [
      "Document id 48e81d9a67fd4e0221485586711cc5f0 is not in uuid format. Such ids will be replaced by uuids, in this case c03efb9b-d5fc-9825-35ad-918a543aa525.\n",
      "No embedding found in Document object being written into Weaviate. A dummy embedding is being supplied so that indexing can still take place. This embedding should be overwritten in order to perform vector similarity searches.\n",
      "  0%|                                                                                                  | 0/13674 [00:00<?, ?it/s]/Users/patrickcallery/dev/question-answering/.venv/lib/python3.10/site-packages/weaviate/warnings.py:80: DeprecationWarning: Dep002: You are batching manually. This means you are NOT using the client's built-in\n",
      "            multi-threading. Setting `batch_size` in `client.batch.configure()`  to an int value will enabled automatic\n",
      "            batching. See:\n",
      "            https://weaviate.io/developers/weaviate/current/restful-api-references/batch.html#example-request-1\n",
      "  warnings.warn(\n",
      "13700it [00:40, 337.69it/s]                                                                                                      \n"
     ]
    }
   ],
   "source": [
    "document_store.write_documents(documents=harry_potter_dicts, batch_size=100)"
   ]
  },
  {
   "cell_type": "markdown",
   "id": "6148f834-deaa-4165-82e1-1d864e61320e",
   "metadata": {},
   "source": [
    "### Inspecting the Database"
   ]
  },
  {
   "cell_type": "markdown",
   "id": "9efbb74a-8539-400c-bc78-fad7ea246bc7",
   "metadata": {},
   "source": [
    "Weaviate provide a [console](https://console.semi.technology/console/query) which can be used to inspect the database. Given that the database has been spun up locally, the default URL and port is `http://localhost:8080`. This can be specified when using the Weaviate Console to connect locally"
   ]
  },
  {
   "cell_type": "markdown",
   "id": "81614146-ac85-4cfa-bc20-c1245c16e752",
   "metadata": {},
   "source": [
    "#### Example Queries"
   ]
  },
  {
   "cell_type": "markdown",
   "id": "82ccfb78-6ce8-4b59-8aa4-d555756f5848",
   "metadata": {},
   "source": [
    "GraphQL can be used to query the Weaviate DB. One option to test this out is through the Weaviate Console mentioned above."
   ]
  },
  {
   "cell_type": "markdown",
   "id": "07c95654-56e6-453a-8639-761f9590e9d3",
   "metadata": {},
   "source": [
    "- Example GraphQL query to get the first 5 records name and content:\n",
    "```\n",
    "{\n",
    "  Get {\n",
    "    Document (\n",
    "       limit: 5\n",
    "    )\n",
    "    {\n",
    "      name\n",
    "      content\n",
    "    }\n",
    "  }\n",
    "}\n",
    "```"
   ]
  },
  {
   "cell_type": "markdown",
   "id": "ea3ac5a2-5227-408b-af8f-e1cfcddf4264",
   "metadata": {},
   "source": [
    "### Adding Vectors into the DB"
   ]
  },
  {
   "cell_type": "markdown",
   "id": "eb5ae4fb-5d11-482c-a48d-ec6bccd3b8a5",
   "metadata": {},
   "source": [
    "Now that we have the documents in the Vector DB, we want to be able to create an embedding and add this in to utilise features like the efficient similarity search"
   ]
  },
  {
   "cell_type": "markdown",
   "id": "9a8ade5b-e1ef-447b-8cd3-448918798d8e",
   "metadata": {},
   "source": [
    "*Aside* - Haystack uses the concepts of a **Reader** and a **Retriever**. \n",
    "\n",
    "The **Reader** is a model which reads a the contents of a set of given documents, and given a question it can extract relevant short passages or answers from the given documents\n",
    "\n",
    "The **Retriever** is a model which can quickly find a relevant set of documents from a large corpus given a query through techniques such as vector search. It can also be used to create the vectors to go into the Vector DB"
   ]
  },
  {
   "cell_type": "markdown",
   "id": "ad047435-2704-4cc9-871d-d26dc8af9293",
   "metadata": {},
   "source": [
    "In the tutorial, an [EmbeddingRetrieval](https://docs.haystack.deepset.ai/docs/retriever#embedding-retrieval-recommended) model is used to create the embeddings"
   ]
  },
  {
   "cell_type": "code",
   "execution_count": 65,
   "id": "c4a14c93-3ba9-44cb-9173-b0b972b0e87f",
   "metadata": {},
   "outputs": [],
   "source": [
    "MODEL_FORMAT = \"sentence_transformers\"\n",
    "EMBEDDING_MODEL = \"sentence-transformers/multi-qa-mpnet-base-dot-v1\""
   ]
  },
  {
   "cell_type": "code",
   "execution_count": 66,
   "id": "f2d276d2-0ba0-4cb8-9897-47fdb6cef22c",
   "metadata": {},
   "outputs": [
    {
     "name": "stderr",
     "output_type": "stream",
     "text": [
      "You seem to be using sentence-transformers/multi-qa-mpnet-base-dot-v1 model with the cosine function instead of the recommended dot_product. This can be set when initializing the DocumentStore\n"
     ]
    }
   ],
   "source": [
    "retriever = EmbeddingRetriever(\n",
    "    document_store=document_store, \n",
    "    model_format=MODEL_FORMAT,\n",
    "    embedding_model=EMBEDDING_MODEL\n",
    ")"
   ]
  },
  {
   "cell_type": "code",
   "execution_count": 67,
   "id": "def13b01-4eef-484a-b5b5-42852f6385f0",
   "metadata": {},
   "outputs": [
    {
     "ename": "WeaviateDocumentStoreError",
     "evalue": "Query results contain errors: [{'locations': [{'column': 6, 'line': 1}], 'message': 'explorer: list class: search: invalid pagination params: query maximum results exceeded', 'path': ['Get', 'Document']}]",
     "output_type": "error",
     "traceback": [
      "\u001b[0;31m---------------------------------------------------------------------------\u001b[0m",
      "\u001b[0;31mWeaviateDocumentStoreError\u001b[0m                Traceback (most recent call last)",
      "Cell \u001b[0;32mIn[67], line 1\u001b[0m\n\u001b[0;32m----> 1\u001b[0m \u001b[43mdocument_store\u001b[49m\u001b[38;5;241;43m.\u001b[39;49m\u001b[43mupdate_embeddings\u001b[49m\u001b[43m(\u001b[49m\u001b[43mretriever\u001b[49m\u001b[43m)\u001b[49m\n",
      "File \u001b[0;32m~/dev/question-answering/.venv/lib/python3.10/site-packages/haystack/document_stores/weaviate.py:1510\u001b[0m, in \u001b[0;36mWeaviateDocumentStore.update_embeddings\u001b[0;34m(self, retriever, index, filters, update_existing_embeddings, batch_size)\u001b[0m\n\u001b[1;32m   1507\u001b[0m \u001b[38;5;66;03m# We retrieve the JSON properties from the schema and convert them back to the Python dicts\u001b[39;00m\n\u001b[1;32m   1508\u001b[0m json_properties \u001b[38;5;241m=\u001b[39m \u001b[38;5;28mself\u001b[39m\u001b[38;5;241m.\u001b[39m_get_json_properties(index\u001b[38;5;241m=\u001b[39mindex)\n\u001b[0;32m-> 1510\u001b[0m \u001b[38;5;28;01mfor\u001b[39;00m result_batch \u001b[38;5;129;01min\u001b[39;00m get_batches_from_generator(result, batch_size):\n\u001b[1;32m   1511\u001b[0m     document_batch \u001b[38;5;241m=\u001b[39m [\n\u001b[1;32m   1512\u001b[0m         \u001b[38;5;28mself\u001b[39m\u001b[38;5;241m.\u001b[39m_convert_weaviate_result_to_document(hit, return_embedding\u001b[38;5;241m=\u001b[39m\u001b[38;5;28;01mFalse\u001b[39;00m, json_properties\u001b[38;5;241m=\u001b[39mjson_properties)\n\u001b[1;32m   1513\u001b[0m         \u001b[38;5;28;01mfor\u001b[39;00m hit \u001b[38;5;129;01min\u001b[39;00m result_batch\n\u001b[1;32m   1514\u001b[0m     ]\n\u001b[1;32m   1515\u001b[0m     embeddings \u001b[38;5;241m=\u001b[39m retriever\u001b[38;5;241m.\u001b[39membed_documents(document_batch)\n",
      "File \u001b[0;32m~/dev/question-answering/.venv/lib/python3.10/site-packages/haystack/utils/batching.py:9\u001b[0m, in \u001b[0;36mget_batches_from_generator\u001b[0;34m(iterable, n)\u001b[0m\n\u001b[1;32m      5\u001b[0m \u001b[38;5;250m\u001b[39m\u001b[38;5;124;03m\"\"\"\u001b[39;00m\n\u001b[1;32m      6\u001b[0m \u001b[38;5;124;03mBatch elements of an iterable into fixed-length chunks or blocks.\u001b[39;00m\n\u001b[1;32m      7\u001b[0m \u001b[38;5;124;03m\"\"\"\u001b[39;00m\n\u001b[1;32m      8\u001b[0m it \u001b[38;5;241m=\u001b[39m \u001b[38;5;28miter\u001b[39m(iterable)\n\u001b[0;32m----> 9\u001b[0m x \u001b[38;5;241m=\u001b[39m \u001b[38;5;28;43mtuple\u001b[39;49m\u001b[43m(\u001b[49m\u001b[43mislice\u001b[49m\u001b[43m(\u001b[49m\u001b[43mit\u001b[49m\u001b[43m,\u001b[49m\u001b[43m \u001b[49m\u001b[43mn\u001b[49m\u001b[43m)\u001b[49m\u001b[43m)\u001b[49m\n\u001b[1;32m     10\u001b[0m \u001b[38;5;28;01mwhile\u001b[39;00m x:\n\u001b[1;32m     11\u001b[0m     \u001b[38;5;28;01myield\u001b[39;00m x\n",
      "File \u001b[0;32m~/dev/question-answering/.venv/lib/python3.10/site-packages/haystack/document_stores/weaviate.py:900\u001b[0m, in \u001b[0;36mWeaviateDocumentStore._get_all_documents_in_index\u001b[0;34m(self, index, filters, batch_size, only_documents_without_embedding)\u001b[0m\n\u001b[1;32m    897\u001b[0m     \u001b[38;5;28;01mraise\u001b[39;00m WeaviateDocumentStoreError(\u001b[38;5;124mf\u001b[39m\u001b[38;5;124m\"\u001b[39m\u001b[38;5;124mWeaviate raised an exception: \u001b[39m\u001b[38;5;132;01m{\u001b[39;00me\u001b[38;5;132;01m}\u001b[39;00m\u001b[38;5;124m\"\u001b[39m)\n\u001b[1;32m    899\u001b[0m \u001b[38;5;28;01mif\u001b[39;00m \u001b[38;5;124m\"\u001b[39m\u001b[38;5;124merrors\u001b[39m\u001b[38;5;124m\"\u001b[39m \u001b[38;5;129;01min\u001b[39;00m result:\n\u001b[0;32m--> 900\u001b[0m     \u001b[38;5;28;01mraise\u001b[39;00m WeaviateDocumentStoreError(\u001b[38;5;124mf\u001b[39m\u001b[38;5;124m\"\u001b[39m\u001b[38;5;124mQuery results contain errors: \u001b[39m\u001b[38;5;132;01m{\u001b[39;00mresult[\u001b[38;5;124m'\u001b[39m\u001b[38;5;124merrors\u001b[39m\u001b[38;5;124m'\u001b[39m]\u001b[38;5;132;01m}\u001b[39;00m\u001b[38;5;124m\"\u001b[39m)\n\u001b[1;32m    902\u001b[0m \u001b[38;5;66;03m# If `query.do` didn't raise and `result` doesn't contain errors,\u001b[39;00m\n\u001b[1;32m    903\u001b[0m \u001b[38;5;66;03m# we are good accessing data\u001b[39;00m\n\u001b[1;32m    904\u001b[0m docs \u001b[38;5;241m=\u001b[39m result\u001b[38;5;241m.\u001b[39mget(\u001b[38;5;124m\"\u001b[39m\u001b[38;5;124mdata\u001b[39m\u001b[38;5;124m\"\u001b[39m)\u001b[38;5;241m.\u001b[39mget(\u001b[38;5;124m\"\u001b[39m\u001b[38;5;124mGet\u001b[39m\u001b[38;5;124m\"\u001b[39m)\u001b[38;5;241m.\u001b[39mget(index)\n",
      "\u001b[0;31mWeaviateDocumentStoreError\u001b[0m: Query results contain errors: [{'locations': [{'column': 6, 'line': 1}], 'message': 'explorer: list class: search: invalid pagination params: query maximum results exceeded', 'path': ['Get', 'Document']}]"
     ]
    }
   ],
   "source": [
    "document_store.update_embeddings(retriever)"
   ]
  },
  {
   "cell_type": "markdown",
   "id": "eef98670-da59-48dc-8873-e744a1b100ec",
   "metadata": {},
   "source": [
    "### Creating the QA Pipeline"
   ]
  },
  {
   "cell_type": "code",
   "execution_count": 51,
   "id": "1344ad82-3379-4f9a-b8d8-64d2245bbce5",
   "metadata": {},
   "outputs": [],
   "source": [
    "# Creating a Reader component as defined above\n",
    "READER_MODEL = \"deepset/tinyroberta-squad2\"\n",
    "reader = FARMReader(model_name_or_path=READER_MODEL, use_gpu=True)"
   ]
  },
  {
   "cell_type": "code",
   "execution_count": 19,
   "id": "df793468-f1a7-45d7-96e3-eac51cd7f53f",
   "metadata": {},
   "outputs": [],
   "source": [
    "question_answering_pipeline = ExtractiveQAPipeline(reader=reader, retriever=retriever)"
   ]
  },
  {
   "cell_type": "markdown",
   "id": "18428125-27b6-4282-b226-b9b4cd128ae8",
   "metadata": {},
   "source": [
    "### Trying Out the Question Answering System"
   ]
  },
  {
   "cell_type": "code",
   "execution_count": 34,
   "id": "f6df121e-e01b-4c09-a630-d2556dc01c89",
   "metadata": {},
   "outputs": [],
   "source": [
    "QUESTION = \"How many points is catching the Golden Snitch worth?\""
   ]
  },
  {
   "cell_type": "code",
   "execution_count": 35,
   "id": "5cad9f81-438d-4430-b9e2-1713d558e477",
   "metadata": {},
   "outputs": [
    {
     "name": "stderr",
     "output_type": "stream",
     "text": [
      "Batches: 100%|█████████████████████████████████████████████████████████████████████████████████████| 1/1 [00:00<00:00,  2.60it/s]\n",
      "Inferencing Samples: 100%|███████████████████████████████████████████████████████████████████| 1/1 [00:02<00:00,  2.83s/ Batches]\n"
     ]
    }
   ],
   "source": [
    "prediction = question_answering_pipeline.run(query=QUESTION, params={\"Retriever\": {\"top_k\": 10}, \"Reader\": {\"top_k\": 5}})"
   ]
  },
  {
   "cell_type": "code",
   "execution_count": 36,
   "id": "34a7302d-a9f9-4edb-84ed-208b989dc066",
   "metadata": {},
   "outputs": [
    {
     "name": "stdout",
     "output_type": "stream",
     "text": [
      "'Query: How many points is catching the Golden Snitch worth?'\n",
      "'Answers:'\n",
      "[   <Answer {'answer': 'ten', 'type': 'extractive', 'score': 0.0017297114245593548, 'context': 'empt to get it through the goal hoops past the Keeper. Each goal is worth ten points. This makes them similar to the forwards in football, as the game', 'offsets_in_document': [{'start': 272, 'end': 275}], 'offsets_in_context': [{'start': 74, 'end': 77}], 'document_ids': ['39c43bff-d817-681e-e218-dac405cccb43'], 'meta': {'name': 'Chaser', 'url': 'https://harrypotter.fandom.com/wiki/Chaser'}}>,\n",
      "    <Answer {'answer': '170*to 20', 'type': 'extractive', 'score': 0.0008021701360121369, 'context': 'idditch World Cup - BULGARIA VERSUS NORWAY Quarter-final: Bulgaria won 170*to 20, one of the biggest upsets of the tournament.\\n\\n\\n==Behind the scenes==', 'offsets_in_document': [{'start': 1019, 'end': 1028}], 'offsets_in_context': [{'start': 71, 'end': 80}], 'document_ids': ['48ebacf8-9dec-8cba-1ff1-6c036684b0f4'], 'meta': {'name': '6_June', 'url': 'https://harrypotter.fandom.com/wiki/6_June'}}>,\n",
      "    <Answer {'answer': 'seven', 'type': 'extractive', 'score': 0.0005942223942838609, 'context': \" time she was very young she has always been a huge fan and has read all seven novels more than once.\\nHelena attends the ''Great Expectations'' premie\", 'offsets_in_document': [{'start': 3016, 'end': 3021}], 'offsets_in_context': [{'start': 73, 'end': 78}], 'document_ids': ['06ef7876-360b-eaa0-2af1-1a133c5361c4'], 'meta': {'name': 'Helena_Barlow', 'url': 'https://harrypotter.fandom.com/wiki/Helena_Barlow'}}>,\n",
      "    <Answer {'answer': '1996', 'type': 'extractive', 'score': 0.00014081888366490602, 'context': 'was served at breakfast at Hogwarts School of Witchcraft and Wizardry in 1996, and was likely served most other years too.\\nMilk is often delivered by ', 'offsets_in_document': [{'start': 714, 'end': 718}], 'offsets_in_context': [{'start': 73, 'end': 77}], 'document_ids': ['bc23ff6e-d2ff-aae4-dfd8-e1478e5d1382'], 'meta': {'name': 'Milk', 'url': 'https://harrypotter.fandom.com/wiki/Milk'}}>,\n",
      "    <Answer {'answer': 'Żółte szaty wyjściowe Luny Lov', 'type': 'extractive', 'score': 0.00013114360626786947, 'context': 'wedding was good luck, as believed by her and her father.\\n\\n\\n==Notes and references==\\nru:Желтая мантия Полумны Лавгуд\\npl:Żółte szaty wyjściowe Luny Lov', 'offsets_in_document': [{'start': 420, 'end': 450}], 'offsets_in_context': [{'start': 120, 'end': 150}], 'document_ids': ['147d2f86-3b9d-e322-8765-7f4a9632b5d6'], 'meta': {'name': 'Luna_Lovegood_s_yellow_dress_robes', 'url': \"https://harrypotter.fandom.com/wiki/Luna_Lovegood's_yellow_dress_robes\"}}>]\n"
     ]
    }
   ],
   "source": [
    "print_answers(prediction)"
   ]
  },
  {
   "cell_type": "markdown",
   "id": "e53adcca-0143-4796-b1ce-b64528121bf1",
   "metadata": {},
   "source": [
    "### Trying Out Different Similarity Metric"
   ]
  },
  {
   "cell_type": "code",
   "execution_count": 44,
   "id": "97265374-3ae1-4136-bc66-047441348c3c",
   "metadata": {},
   "outputs": [],
   "source": [
    "SIMILARITY_METRIC = \"dot_product\"\n",
    "document_store_dot_product = WeaviateDocumentStore(similarity=SIMILARITY_METRIC, recreate_index=True)"
   ]
  },
  {
   "cell_type": "code",
   "execution_count": 45,
   "id": "b5f8196f-ee72-4538-b62a-9cccd988daa6",
   "metadata": {},
   "outputs": [
    {
     "name": "stderr",
     "output_type": "stream",
     "text": [
      "You seem to be using sentence-transformers/multi-qa-mpnet-base-dot-v1 model with the dot function instead of the recommended dot_product. This can be set when initializing the DocumentStore\n"
     ]
    }
   ],
   "source": [
    "retriever = EmbeddingRetriever(\n",
    "    document_store=document_store_dot_product, \n",
    "    model_format=MODEL_FORMAT,\n",
    "    embedding_model=EMBEDDING_MODEL\n",
    ")"
   ]
  },
  {
   "cell_type": "code",
   "execution_count": 56,
   "id": "b114a3c9-7bd8-4da3-867c-960963c89640",
   "metadata": {},
   "outputs": [],
   "source": [
    "document_store_dot_product.update_embeddings(retriever)"
   ]
  },
  {
   "cell_type": "code",
   "execution_count": 57,
   "id": "ad17f376-10f8-4cab-804a-f0694e22ecbc",
   "metadata": {},
   "outputs": [],
   "source": [
    "question_answering_pipeline = ExtractiveQAPipeline(reader=reader, retriever=retriever)"
   ]
  },
  {
   "cell_type": "code",
   "execution_count": 58,
   "id": "18023de6-1618-493c-b78b-165fd5b2b6f6",
   "metadata": {},
   "outputs": [],
   "source": [
    "QUESTION = \"How many points is catching the Golden Snitch worth?\""
   ]
  },
  {
   "cell_type": "code",
   "execution_count": 59,
   "id": "75dbb1ea-252f-4c95-8ea0-79ba08e4c692",
   "metadata": {},
   "outputs": [
    {
     "name": "stderr",
     "output_type": "stream",
     "text": [
      "Batches: 100%|█████████████████████████████████████████████████████████████████████████████████████| 1/1 [00:00<00:00,  5.26it/s]\n"
     ]
    }
   ],
   "source": [
    "prediction = question_answering_pipeline.run(query=QUESTION, params={\"Retriever\": {\"top_k\": 10}, \"Reader\": {\"top_k\": 5}})"
   ]
  },
  {
   "cell_type": "code",
   "execution_count": 60,
   "id": "e7b0c1d3-20b8-4a9a-97ef-9c12a66a8559",
   "metadata": {},
   "outputs": [
    {
     "name": "stdout",
     "output_type": "stream",
     "text": [
      "'Query: How many points is catching the Golden Snitch worth?'\n",
      "'Answers:'\n",
      "[]\n"
     ]
    }
   ],
   "source": [
    "print_answers(prediction)"
   ]
  },
  {
   "cell_type": "code",
   "execution_count": null,
   "id": "a122d81e-6d8d-4377-ac1c-daee2971b568",
   "metadata": {},
   "outputs": [],
   "source": []
  }
 ],
 "metadata": {
  "kernelspec": {
   "display_name": "Python 3 (ipykernel)",
   "language": "python",
   "name": "python3"
  },
  "language_info": {
   "codemirror_mode": {
    "name": "ipython",
    "version": 3
   },
   "file_extension": ".py",
   "mimetype": "text/x-python",
   "name": "python",
   "nbconvert_exporter": "python",
   "pygments_lexer": "ipython3",
   "version": "3.10.4"
  }
 },
 "nbformat": 4,
 "nbformat_minor": 5
}
