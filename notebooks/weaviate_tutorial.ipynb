{
 "cells": [
  {
   "cell_type": "markdown",
   "id": "59d4ab56-88d7-4048-8faf-8db35fac9f04",
   "metadata": {},
   "source": [
    "### Weaviate Tutorial"
   ]
  },
  {
   "cell_type": "markdown",
   "id": "f18df430-97d8-4366-ac10-1b72fadbdfe1",
   "metadata": {},
   "source": [
    "Following the Weaviate tutorial in [this](https://colab.research.google.com/github/semi-technologies/weaviate-examples/blob/main/harrypotter-qa-haystack-weaviate/COLAB-HarryPotter-QA-Haystack-Weaviate.ipynb) colab notebook"
   ]
  },
  {
   "cell_type": "code",
   "execution_count": 15,
   "id": "61578293-edc0-437c-8035-f40f5c56258c",
   "metadata": {},
   "outputs": [],
   "source": [
    "from haystack.document_stores import WeaviateDocumentStore\n",
    "from haystack.utils import launch_weaviate\n",
    "from haystack.utils import clean_wiki_text\n",
    "import pandas as pd"
   ]
  },
  {
   "cell_type": "markdown",
   "id": "20bc7851-9f35-4459-bdc4-fd1b3154973c",
   "metadata": {},
   "source": [
    "### Load in the Data"
   ]
  },
  {
   "cell_type": "markdown",
   "id": "29568ddd-e720-493c-94d2-f702d605bb3a",
   "metadata": {},
   "source": [
    "The tutorial makes use of the [Harry Potter Wiki](https://harrypotter.fandom.com/wiki/Main_Page) and have loaded it into an S3 bucket as a CSV"
   ]
  },
  {
   "cell_type": "code",
   "execution_count": 2,
   "id": "02ffd269-8a81-46bb-95ba-70a3673d38ac",
   "metadata": {},
   "outputs": [],
   "source": [
    "harry_potter_df = pd.read_csv(\"https://s3.eu-central-1.amazonaws.com/deepset.ai-farm-qa/datasets/documents/harry_potter_wiki.csv\")"
   ]
  },
  {
   "cell_type": "code",
   "execution_count": 3,
   "id": "8bea2ac5-094a-4f83-b4ca-59d63675fc58",
   "metadata": {},
   "outputs": [
    {
     "data": {
      "text/plain": [
       "(13674, 6)"
      ]
     },
     "execution_count": 3,
     "metadata": {},
     "output_type": "execute_result"
    }
   ],
   "source": [
    "harry_potter_df.shape"
   ]
  },
  {
   "cell_type": "markdown",
   "id": "3226a943-8d25-4bc7-81d0-367a221a3b6d",
   "metadata": {},
   "source": [
    "harry_potter_df.head()"
   ]
  },
  {
   "cell_type": "code",
   "execution_count": 4,
   "id": "b33e99f2-c01a-4460-ae67-341b67b443cf",
   "metadata": {},
   "outputs": [
    {
     "data": {
      "text/plain": [
       "'Gryffindor\\n\\nGryffindor is one of the four Houses of Hogwarts School of Witchcraft and Wizardry and w'"
      ]
     },
     "execution_count": 4,
     "metadata": {},
     "output_type": "execute_result"
    }
   ],
   "source": [
    "harry_potter_df[\"text\"][0][0:100]"
   ]
  },
  {
   "cell_type": "markdown",
   "id": "01e91268-3526-44f2-9da9-4827108d106b",
   "metadata": {},
   "source": [
    "Tutorial makes use of a `clean_wiki_text` method to clean up the data, which is a Haystack utility"
   ]
  },
  {
   "cell_type": "code",
   "execution_count": 5,
   "id": "0c2c9256-3ae1-443f-b751-16b8b956ccf0",
   "metadata": {},
   "outputs": [
    {
     "name": "stdout",
     "output_type": "stream",
     "text": [
      "Help on function clean_wiki_text in module haystack.utils.cleaning:\n",
      "\n",
      "clean_wiki_text(text: str) -> str\n",
      "    Clean wikipedia text by removing multiple new lines, removing extremely short lines,\n",
      "    adding paragraph breaks and removing empty paragraphs\n",
      "\n"
     ]
    }
   ],
   "source": [
    "help(clean_wiki_text)"
   ]
  },
  {
   "cell_type": "markdown",
   "id": "4065c6a6-b059-48b5-a877-a00a051788c4",
   "metadata": {},
   "source": [
    "### Convert the Data into Required Format"
   ]
  },
  {
   "cell_type": "markdown",
   "id": "bece294b-8965-40c2-a523-0b1b20c0a500",
   "metadata": {},
   "source": [
    "One of the key data structures used in Haystack is a `Document`. They encapsulate the content of a document along with its associated metadata. It typically contains:\n",
    "- The text of the document.\n",
    "- Metadata like the document's name, source, or any other custom fields.\n",
    "- Optionally, embeddings that represent the content in a dense vector format.\n",
    "\n",
    "The Document class is used within the Haystack framework for various tasks like indexing, retrieval, and answering questions. It provides a standardized way to handle documents across different stages of the information retrieval and question-answering processes."
   ]
  },
  {
   "cell_type": "code",
   "execution_count": 23,
   "id": "721f9687-6c1f-4cf6-8ec4-a83bd0fc1c77",
   "metadata": {},
   "outputs": [],
   "source": [
    "harry_potter_dicts = [\n",
    "    {'content': clean_wiki_text(row.text),'meta': {'name': row['name'],'url': row.url}} for ix, row in harry_potter_df.iterrows()\n",
    "]"
   ]
  },
  {
   "cell_type": "markdown",
   "id": "df1a9e54-a522-444f-b89e-c52285fd0d6e",
   "metadata": {},
   "source": [
    "### Loading the Data into a Vector Database"
   ]
  },
  {
   "cell_type": "markdown",
   "id": "a3d9cff5-cd60-4629-b3fe-fa2401a8b870",
   "metadata": {},
   "source": [
    "A *vector database* is a database designed to efficiently store and retrieve high dimensional data. They're often used for efficient similarity search in applications such as natural language processing by modelling text as high dimensional vectors. [Weaviate](https://weaviate.io/developers/weaviate) is an open source vector database"
   ]
  },
  {
   "cell_type": "markdown",
   "id": "445debe4-5c0a-46c1-9d05-d4fdff84714a",
   "metadata": {},
   "source": [
    "There are multiple ways to host a Weaviate Vector Database such as self-hosted using a container and their managed service. For the purpose of following the tutorial previously referenced, going to use a local implementation"
   ]
  },
  {
   "cell_type": "markdown",
   "id": "24655612-4d0c-4680-96f1-6289b05009a3",
   "metadata": {},
   "source": [
    "Note that Docker Daemon needed to be running for the below to work"
   ]
  },
  {
   "cell_type": "code",
   "execution_count": 18,
   "id": "9ab55ed6-8596-4417-97a7-89c7dffabc96",
   "metadata": {},
   "outputs": [
    {
     "name": "stderr",
     "output_type": "stream",
     "text": [
      "Unable to find image 'semitechnologies/weaviate:latest' locally\n",
      "latest: Pulling from semitechnologies/weaviate\n",
      "579b34f0a95b: Already exists\n",
      "bf5dbc62c20f: Pulling fs layer\n",
      "f5dd2b338fac: Pulling fs layer\n",
      "626b3aa8d35f: Pulling fs layer\n",
      "64adedbebeae: Pulling fs layer\n",
      "64adedbebeae: Waiting\n",
      "bf5dbc62c20f: Download complete\n",
      "bf5dbc62c20f: Pull complete\n",
      "626b3aa8d35f: Verifying Checksum\n",
      "626b3aa8d35f: Download complete\n",
      "64adedbebeae: Verifying Checksum\n",
      "64adedbebeae: Download complete\n",
      "f5dd2b338fac: Verifying Checksum\n",
      "f5dd2b338fac: Download complete\n",
      "f5dd2b338fac: Pull complete\n",
      "626b3aa8d35f: Pull complete\n",
      "64adedbebeae: Pull complete\n",
      "Digest: sha256:a63841845be2b818d822c1164a3fcaf2ca4ab604d30646a4f59660977e4768a6\n",
      "Status: Downloaded newer image for semitechnologies/weaviate:latest\n"
     ]
    },
    {
     "name": "stdout",
     "output_type": "stream",
     "text": [
      "a88f9a91fa4342063009d8870bdc6747bc97099f5da8e8aef0248d39ea4bdc14\n"
     ]
    }
   ],
   "source": [
    "launch_weaviate()"
   ]
  },
  {
   "cell_type": "code",
   "execution_count": 19,
   "id": "4cc62dd2-b041-4071-b45a-95e7f44690ff",
   "metadata": {},
   "outputs": [],
   "source": [
    "document_store = WeaviateDocumentStore()"
   ]
  },
  {
   "cell_type": "code",
   "execution_count": 22,
   "id": "3fa29e29-05d9-4a4d-a406-f400b9c2c82d",
   "metadata": {},
   "outputs": [
    {
     "name": "stderr",
     "output_type": "stream",
     "text": [
      "Document id 48e81d9a67fd4e0221485586711cc5f0 is not in uuid format. Such ids will be replaced by uuids, in this case c03efb9b-d5fc-9825-35ad-918a543aa525.\n",
      "No embedding found in Document object being written into Weaviate. A dummy embedding is being supplied so that indexing can still take place. This embedding should be overwritten in order to perform vector similarity searches.\n",
      "  0%|                                                                                                  | 0/13674 [00:00<?, ?it/s]/Users/patrickcallery/dev/question-answering/.venv/lib/python3.10/site-packages/weaviate/warnings.py:80: DeprecationWarning: Dep002: You are batching manually. This means you are NOT using the client's built-in\n",
      "            multi-threading. Setting `batch_size` in `client.batch.configure()`  to an int value will enabled automatic\n",
      "            batching. See:\n",
      "            https://weaviate.io/developers/weaviate/current/restful-api-references/batch.html#example-request-1\n",
      "  warnings.warn(\n",
      "13700it [00:25, 542.03it/s]                                                                                                      \n"
     ]
    }
   ],
   "source": [
    "document_store.write_documents(documents=harry_potter_dict, batch_size=100)"
   ]
  },
  {
   "cell_type": "code",
   "execution_count": null,
   "id": "49e83dd1-ffb8-423c-92e0-2737e94bf58e",
   "metadata": {},
   "outputs": [],
   "source": []
  },
  {
   "cell_type": "code",
   "execution_count": null,
   "id": "63b91c34-f8d2-47e0-8df3-c144962bd802",
   "metadata": {},
   "outputs": [],
   "source": []
  }
 ],
 "metadata": {
  "kernelspec": {
   "display_name": "Python 3 (ipykernel)",
   "language": "python",
   "name": "python3"
  },
  "language_info": {
   "codemirror_mode": {
    "name": "ipython",
    "version": 3
   },
   "file_extension": ".py",
   "mimetype": "text/x-python",
   "name": "python",
   "nbconvert_exporter": "python",
   "pygments_lexer": "ipython3",
   "version": "3.10.4"
  }
 },
 "nbformat": 4,
 "nbformat_minor": 5
}
