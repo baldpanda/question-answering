{
 "cells": [
  {
   "cell_type": "markdown",
   "id": "59d4ab56-88d7-4048-8faf-8db35fac9f04",
   "metadata": {},
   "source": [
    "### Weaviate Tutorial"
   ]
  },
  {
   "cell_type": "markdown",
   "id": "f18df430-97d8-4366-ac10-1b72fadbdfe1",
   "metadata": {},
   "source": [
    "Following the Weaviate tutorial in [this](https://colab.research.google.com/github/semi-technologies/weaviate-examples/blob/main/harrypotter-qa-haystack-weaviate/COLAB-HarryPotter-QA-Haystack-Weaviate.ipynb) colab notebook"
   ]
  },
  {
   "cell_type": "code",
   "execution_count": 23,
   "id": "61578293-edc0-437c-8035-f40f5c56258c",
   "metadata": {},
   "outputs": [],
   "source": [
    "from haystack.document_stores import WeaviateDocumentStore\n",
    "from haystack.pipelines import ExtractiveQAPipeline\n",
    "from haystack.nodes import EmbeddingRetriever\n",
    "from haystack.nodes import FARMReader\n",
    "from haystack.utils import launch_weaviate\n",
    "from haystack.utils import clean_wiki_text\n",
    "from haystack.utils import print_answers\n",
    "\n",
    "import pandas as pd"
   ]
  },
  {
   "cell_type": "markdown",
   "id": "20bc7851-9f35-4459-bdc4-fd1b3154973c",
   "metadata": {},
   "source": [
    "### Load in the Data"
   ]
  },
  {
   "cell_type": "markdown",
   "id": "29568ddd-e720-493c-94d2-f702d605bb3a",
   "metadata": {},
   "source": [
    "The tutorial makes use of the [Harry Potter Wiki](https://harrypotter.fandom.com/wiki/Main_Page) and have loaded it into an S3 bucket as a CSV"
   ]
  },
  {
   "cell_type": "code",
   "execution_count": 2,
   "id": "02ffd269-8a81-46bb-95ba-70a3673d38ac",
   "metadata": {},
   "outputs": [],
   "source": [
    "harry_potter_df = pd.read_csv(\"https://s3.eu-central-1.amazonaws.com/deepset.ai-farm-qa/datasets/documents/harry_potter_wiki.csv\")"
   ]
  },
  {
   "cell_type": "code",
   "execution_count": 3,
   "id": "8bea2ac5-094a-4f83-b4ca-59d63675fc58",
   "metadata": {},
   "outputs": [
    {
     "data": {
      "text/plain": [
       "(13674, 6)"
      ]
     },
     "execution_count": 3,
     "metadata": {},
     "output_type": "execute_result"
    }
   ],
   "source": [
    "harry_potter_df.shape"
   ]
  },
  {
   "cell_type": "markdown",
   "id": "3226a943-8d25-4bc7-81d0-367a221a3b6d",
   "metadata": {},
   "source": [
    "harry_potter_df.head()"
   ]
  },
  {
   "cell_type": "code",
   "execution_count": 4,
   "id": "b33e99f2-c01a-4460-ae67-341b67b443cf",
   "metadata": {},
   "outputs": [
    {
     "data": {
      "text/plain": [
       "'Gryffindor\\n\\nGryffindor is one of the four Houses of Hogwarts School of Witchcraft and Wizardry and w'"
      ]
     },
     "execution_count": 4,
     "metadata": {},
     "output_type": "execute_result"
    }
   ],
   "source": [
    "harry_potter_df[\"text\"][0][0:100]"
   ]
  },
  {
   "cell_type": "markdown",
   "id": "01e91268-3526-44f2-9da9-4827108d106b",
   "metadata": {},
   "source": [
    "Tutorial makes use of a `clean_wiki_text` method to clean up the data, which is a Haystack utility"
   ]
  },
  {
   "cell_type": "code",
   "execution_count": 5,
   "id": "0c2c9256-3ae1-443f-b751-16b8b956ccf0",
   "metadata": {},
   "outputs": [
    {
     "name": "stdout",
     "output_type": "stream",
     "text": [
      "Help on function clean_wiki_text in module haystack.utils.cleaning:\n",
      "\n",
      "clean_wiki_text(text: str) -> str\n",
      "    Clean wikipedia text by removing multiple new lines, removing extremely short lines,\n",
      "    adding paragraph breaks and removing empty paragraphs\n",
      "\n"
     ]
    }
   ],
   "source": [
    "help(clean_wiki_text)"
   ]
  },
  {
   "cell_type": "markdown",
   "id": "4065c6a6-b059-48b5-a877-a00a051788c4",
   "metadata": {},
   "source": [
    "### Convert the Data into Required Format"
   ]
  },
  {
   "cell_type": "markdown",
   "id": "bece294b-8965-40c2-a523-0b1b20c0a500",
   "metadata": {},
   "source": [
    "One of the key data structures used in Haystack is a `Document`. They encapsulate the content of a document along with its associated metadata. It typically contains:\n",
    "- The text of the document.\n",
    "- Metadata like the document's name, source, or any other custom fields.\n",
    "- Optionally, embeddings that represent the content in a dense vector format.\n",
    "\n",
    "The Document class is used within the Haystack framework for various tasks like indexing, retrieval, and answering questions. It provides a standardized way to handle documents across different stages of the information retrieval and question-answering processes."
   ]
  },
  {
   "cell_type": "code",
   "execution_count": 6,
   "id": "721f9687-6c1f-4cf6-8ec4-a83bd0fc1c77",
   "metadata": {},
   "outputs": [],
   "source": [
    "harry_potter_dicts = [\n",
    "    {'content': clean_wiki_text(row.text),'meta': {'name': row['name'],'url': row.url}} for ix, row in harry_potter_df.iterrows()\n",
    "]"
   ]
  },
  {
   "cell_type": "markdown",
   "id": "df1a9e54-a522-444f-b89e-c52285fd0d6e",
   "metadata": {},
   "source": [
    "### Loading the Data into a Vector Database"
   ]
  },
  {
   "cell_type": "markdown",
   "id": "a3d9cff5-cd60-4629-b3fe-fa2401a8b870",
   "metadata": {},
   "source": [
    "A *vector database* is a database designed to efficiently store and retrieve high dimensional data. They're often used for efficient similarity search in applications such as natural language processing by modelling text as high dimensional vectors. [Weaviate](https://weaviate.io/developers/weaviate) is an open source vector database"
   ]
  },
  {
   "cell_type": "markdown",
   "id": "445debe4-5c0a-46c1-9d05-d4fdff84714a",
   "metadata": {},
   "source": [
    "There are multiple ways to host a Weaviate Vector Database such as self-hosted using a container and their managed service. For the purpose of following the tutorial previously referenced, going to use a local implementation"
   ]
  },
  {
   "cell_type": "markdown",
   "id": "24655612-4d0c-4680-96f1-6289b05009a3",
   "metadata": {},
   "source": [
    "Note that Docker Daemon needed to be running for the below to work"
   ]
  },
  {
   "cell_type": "code",
   "execution_count": 7,
   "id": "9ab55ed6-8596-4417-97a7-89c7dffabc96",
   "metadata": {},
   "outputs": [],
   "source": [
    "launch_weaviate()"
   ]
  },
  {
   "cell_type": "code",
   "execution_count": 8,
   "id": "4cc62dd2-b041-4071-b45a-95e7f44690ff",
   "metadata": {},
   "outputs": [],
   "source": [
    "document_store = WeaviateDocumentStore()"
   ]
  },
  {
   "cell_type": "code",
   "execution_count": 9,
   "id": "3fa29e29-05d9-4a4d-a406-f400b9c2c82d",
   "metadata": {},
   "outputs": [
    {
     "name": "stderr",
     "output_type": "stream",
     "text": [
      "Document id 48e81d9a67fd4e0221485586711cc5f0 is not in uuid format. Such ids will be replaced by uuids, in this case c03efb9b-d5fc-9825-35ad-918a543aa525.\n",
      "No embedding found in Document object being written into Weaviate. A dummy embedding is being supplied so that indexing can still take place. This embedding should be overwritten in order to perform vector similarity searches.\n",
      "  0%|                                                                                                  | 0/13674 [00:00<?, ?it/s]/Users/patrickcallery/dev/question-answering/.venv/lib/python3.10/site-packages/weaviate/warnings.py:80: DeprecationWarning: Dep002: You are batching manually. This means you are NOT using the client's built-in\n",
      "            multi-threading. Setting `batch_size` in `client.batch.configure()`  to an int value will enabled automatic\n",
      "            batching. See:\n",
      "            https://weaviate.io/developers/weaviate/current/restful-api-references/batch.html#example-request-1\n",
      "  warnings.warn(\n",
      "13700it [00:48, 285.17it/s]                                                                                                      \n"
     ]
    }
   ],
   "source": [
    "document_store.write_documents(documents=harry_potter_dicts, batch_size=100)"
   ]
  },
  {
   "cell_type": "markdown",
   "id": "6148f834-deaa-4165-82e1-1d864e61320e",
   "metadata": {},
   "source": [
    "### Inspecting the Database"
   ]
  },
  {
   "cell_type": "markdown",
   "id": "9efbb74a-8539-400c-bc78-fad7ea246bc7",
   "metadata": {},
   "source": [
    "Weaviate provide a [console](https://console.semi.technology/console/query) which can be used to inspect the database. Given that the database has been spun up locally, the default URL and port is `http://localhost:8080`. This can be specified when using the Weaviate Console to connect locally"
   ]
  },
  {
   "cell_type": "markdown",
   "id": "81614146-ac85-4cfa-bc20-c1245c16e752",
   "metadata": {},
   "source": [
    "#### Example Queries"
   ]
  },
  {
   "cell_type": "markdown",
   "id": "82ccfb78-6ce8-4b59-8aa4-d555756f5848",
   "metadata": {},
   "source": [
    "GraphQL can be used to query the Weaviate DB. One option to test this out is through the Weaviate Console mentioned above."
   ]
  },
  {
   "cell_type": "markdown",
   "id": "07c95654-56e6-453a-8639-761f9590e9d3",
   "metadata": {},
   "source": [
    "- Example GraphQL query to get the first 5 records name and content:\n",
    "```\n",
    "{\n",
    "  Get {\n",
    "    Document (\n",
    "       limit: 5\n",
    "    )\n",
    "    {\n",
    "      name\n",
    "      content\n",
    "    }\n",
    "  }\n",
    "}\n",
    "```"
   ]
  },
  {
   "cell_type": "markdown",
   "id": "ea3ac5a2-5227-408b-af8f-e1cfcddf4264",
   "metadata": {},
   "source": [
    "### Adding Vectors into the DB"
   ]
  },
  {
   "cell_type": "markdown",
   "id": "eb5ae4fb-5d11-482c-a48d-ec6bccd3b8a5",
   "metadata": {},
   "source": [
    "Now that we have the documents in the Vector DB, we want to be able to create an embedding and add this in to utilise features like the efficient similarity search"
   ]
  },
  {
   "cell_type": "markdown",
   "id": "9a8ade5b-e1ef-447b-8cd3-448918798d8e",
   "metadata": {},
   "source": [
    "*Aside* - Haystack uses the concepts of a **Reader** and a **Retriever**. \n",
    "\n",
    "The **Reader** is a model which reads a the contents of a set of given documents, and given a question it can extract relevant short passages or answers from the given documents\n",
    "\n",
    "The **Retriever** is a model which can quickly find a relevant set of documents from a large corpus given a query through techniques such as vector search. It can also be used to create the vectors to go into the Vector DB"
   ]
  },
  {
   "cell_type": "markdown",
   "id": "ad047435-2704-4cc9-871d-d26dc8af9293",
   "metadata": {},
   "source": [
    "In the tutorial, an [EmbeddingRetrieval](https://docs.haystack.deepset.ai/docs/retriever#embedding-retrieval-recommended) model is used to create the embeddings"
   ]
  },
  {
   "cell_type": "code",
   "execution_count": 13,
   "id": "c4a14c93-3ba9-44cb-9173-b0b972b0e87f",
   "metadata": {},
   "outputs": [],
   "source": [
    "MODEL_FORMAT = \"sentence_transformers\"\n",
    "EMBEDDING_MODEL = \"sentence-transformers/multi-qa-mpnet-base-dot-v1\""
   ]
  },
  {
   "cell_type": "code",
   "execution_count": 14,
   "id": "f2d276d2-0ba0-4cb8-9897-47fdb6cef22c",
   "metadata": {},
   "outputs": [
    {
     "name": "stderr",
     "output_type": "stream",
     "text": [
      "(…)70bdf8fca0ca826b6b5d16ebc/.gitattributes: 100%|██████████████████████████████████████████████| 737/737 [00:00<00:00, 1.34MB/s]\n",
      "(…)ca0ca826b6b5d16ebc/1_Pooling/config.json: 100%|███████████████████████████████████████████████| 190/190 [00:00<00:00, 219kB/s]\n",
      "(…)abd4f70bdf8fca0ca826b6b5d16ebc/README.md: 100%|██████████████████████████████████████████| 8.65k/8.65k [00:00<00:00, 11.3MB/s]\n",
      "(…)d4f70bdf8fca0ca826b6b5d16ebc/config.json: 100%|███████████████████████████████████████████████| 571/571 [00:00<00:00, 702kB/s]\n",
      "(…)d16ebc/config_sentence_transformers.json: 100%|███████████████████████████████████████████████| 116/116 [00:00<00:00, 142kB/s]\n",
      "(…)bdf8fca0ca826b6b5d16ebc/data_config.json: 100%|██████████████████████████████████████████| 25.5k/25.5k [00:00<00:00, 15.2MB/s]\n",
      "pytorch_model.bin: 100%|██████████████████████████████████████████████████████████████████████| 438M/438M [00:36<00:00, 12.1MB/s]\n",
      "(…)a826b6b5d16ebc/sentence_bert_config.json: 100%|████████████████████████████████████████████| 53.0/53.0 [00:00<00:00, 50.6kB/s]\n",
      "(…)0ca826b6b5d16ebc/special_tokens_map.json: 100%|███████████████████████████████████████████████| 239/239 [00:00<00:00, 218kB/s]\n",
      "(…)70bdf8fca0ca826b6b5d16ebc/tokenizer.json: 100%|████████████████████████████████████████████| 466k/466k [00:00<00:00, 1.86MB/s]\n",
      "(…)ca0ca826b6b5d16ebc/tokenizer_config.json: 100%|███████████████████████████████████████████████| 363/363 [00:00<00:00, 346kB/s]\n",
      "(…)0bdf8fca0ca826b6b5d16ebc/train_script.py: 100%|██████████████████████████████████████████| 13.9k/13.9k [00:00<00:00, 4.70MB/s]\n",
      "(…)abd4f70bdf8fca0ca826b6b5d16ebc/vocab.txt: 100%|████████████████████████████████████████████| 232k/232k [00:00<00:00, 2.61MB/s]\n",
      "(…)4f70bdf8fca0ca826b6b5d16ebc/modules.json: 100%|███████████████████████████████████████████████| 229/229 [00:00<00:00, 226kB/s]\n",
      "/Users/patrickcallery/dev/question-answering/.venv/lib/python3.10/site-packages/torch/_utils.py:831: UserWarning: TypedStorage is deprecated. It will be removed in the future and UntypedStorage will be the only storage class. This should only matter to you if you are using storages directly.  To access UntypedStorage directly, use tensor.untyped_storage() instead of tensor.storage()\n",
      "  return self.fget.__get__(instance, owner)()\n",
      "You seem to be using sentence-transformers/multi-qa-mpnet-base-dot-v1 model with the cosine function instead of the recommended dot_product. This can be set when initializing the DocumentStore\n"
     ]
    }
   ],
   "source": [
    "retriever = EmbeddingRetriever(\n",
    "    document_store=document_store, \n",
    "    model_format=MODEL_FORMAT,\n",
    "    embedding_model=EMBEDDING_MODEL\n",
    ")"
   ]
  },
  {
   "cell_type": "markdown",
   "id": "eef98670-da59-48dc-8873-e744a1b100ec",
   "metadata": {},
   "source": [
    "### Creating the QA Pipeline"
   ]
  },
  {
   "cell_type": "code",
   "execution_count": 17,
   "id": "1344ad82-3379-4f9a-b8d8-64d2245bbce5",
   "metadata": {},
   "outputs": [
    {
     "name": "stderr",
     "output_type": "stream",
     "text": [
      "(…)yroberta-squad2/resolve/main/config.json: 100%|███████████████████████████████████████████████| 835/835 [00:00<00:00, 204kB/s]\n",
      "model.safetensors: 100%|██████████████████████████████████████████████████████████████████████| 326M/326M [00:18<00:00, 18.0MB/s]\n",
      "(…)quad2/resolve/main/tokenizer_config.json: 100%|██████████████████████████████████████████████| 383/383 [00:00<00:00, 1.94MB/s]\n",
      "(…)nyroberta-squad2/resolve/main/vocab.json: 100%|████████████████████████████████████████████| 798k/798k [00:00<00:00, 3.27MB/s]\n",
      "(…)nyroberta-squad2/resolve/main/merges.txt: 100%|████████████████████████████████████████████| 456k/456k [00:00<00:00, 1.85MB/s]\n",
      "(…)berta-squad2/resolve/main/tokenizer.json: 100%|██████████████████████████████████████████| 1.36M/1.36M [00:00<00:00, 3.27MB/s]\n",
      "(…)ad2/resolve/main/special_tokens_map.json: 100%|███████████████████████████████████████████████| 239/239 [00:00<00:00, 240kB/s]\n"
     ]
    }
   ],
   "source": [
    "# Creating a Reader component as defined above\n",
    "READER_MODEL = \"deepset/tinyroberta-squad2\"\n",
    "reader = FARMReader(model_name_or_path=READER_MODEL, use_gpu=True)"
   ]
  },
  {
   "cell_type": "code",
   "execution_count": 19,
   "id": "df793468-f1a7-45d7-96e3-eac51cd7f53f",
   "metadata": {},
   "outputs": [],
   "source": [
    "question_answering_pipeline = ExtractiveQAPipeline(reader=reader, retriever=retriever)"
   ]
  },
  {
   "cell_type": "markdown",
   "id": "18428125-27b6-4282-b226-b9b4cd128ae8",
   "metadata": {},
   "source": [
    "### Trying Out the Question Answering System"
   ]
  },
  {
   "cell_type": "code",
   "execution_count": 34,
   "id": "f6df121e-e01b-4c09-a630-d2556dc01c89",
   "metadata": {},
   "outputs": [],
   "source": [
    "QUESTION = \"How many points is catching the Golden Snitch worth?\""
   ]
  },
  {
   "cell_type": "code",
   "execution_count": 35,
   "id": "5cad9f81-438d-4430-b9e2-1713d558e477",
   "metadata": {},
   "outputs": [
    {
     "name": "stderr",
     "output_type": "stream",
     "text": [
      "Batches: 100%|█████████████████████████████████████████████████████████████████████████████████████| 1/1 [00:00<00:00,  2.60it/s]\n",
      "Inferencing Samples: 100%|███████████████████████████████████████████████████████████████████| 1/1 [00:02<00:00,  2.83s/ Batches]\n"
     ]
    }
   ],
   "source": [
    "prediction = question_answering_pipeline.run(query=QUESTION, params={\"Retriever\": {\"top_k\": 10}, \"Reader\": {\"top_k\": 5}})"
   ]
  },
  {
   "cell_type": "code",
   "execution_count": 36,
   "id": "34a7302d-a9f9-4edb-84ed-208b989dc066",
   "metadata": {},
   "outputs": [
    {
     "name": "stdout",
     "output_type": "stream",
     "text": [
      "'Query: How many points is catching the Golden Snitch worth?'\n",
      "'Answers:'\n",
      "[   <Answer {'answer': 'ten', 'type': 'extractive', 'score': 0.0017297114245593548, 'context': 'empt to get it through the goal hoops past the Keeper. Each goal is worth ten points. This makes them similar to the forwards in football, as the game', 'offsets_in_document': [{'start': 272, 'end': 275}], 'offsets_in_context': [{'start': 74, 'end': 77}], 'document_ids': ['39c43bff-d817-681e-e218-dac405cccb43'], 'meta': {'name': 'Chaser', 'url': 'https://harrypotter.fandom.com/wiki/Chaser'}}>,\n",
      "    <Answer {'answer': '170*to 20', 'type': 'extractive', 'score': 0.0008021701360121369, 'context': 'idditch World Cup - BULGARIA VERSUS NORWAY Quarter-final: Bulgaria won 170*to 20, one of the biggest upsets of the tournament.\\n\\n\\n==Behind the scenes==', 'offsets_in_document': [{'start': 1019, 'end': 1028}], 'offsets_in_context': [{'start': 71, 'end': 80}], 'document_ids': ['48ebacf8-9dec-8cba-1ff1-6c036684b0f4'], 'meta': {'name': '6_June', 'url': 'https://harrypotter.fandom.com/wiki/6_June'}}>,\n",
      "    <Answer {'answer': 'seven', 'type': 'extractive', 'score': 0.0005942223942838609, 'context': \" time she was very young she has always been a huge fan and has read all seven novels more than once.\\nHelena attends the ''Great Expectations'' premie\", 'offsets_in_document': [{'start': 3016, 'end': 3021}], 'offsets_in_context': [{'start': 73, 'end': 78}], 'document_ids': ['06ef7876-360b-eaa0-2af1-1a133c5361c4'], 'meta': {'name': 'Helena_Barlow', 'url': 'https://harrypotter.fandom.com/wiki/Helena_Barlow'}}>,\n",
      "    <Answer {'answer': '1996', 'type': 'extractive', 'score': 0.00014081888366490602, 'context': 'was served at breakfast at Hogwarts School of Witchcraft and Wizardry in 1996, and was likely served most other years too.\\nMilk is often delivered by ', 'offsets_in_document': [{'start': 714, 'end': 718}], 'offsets_in_context': [{'start': 73, 'end': 77}], 'document_ids': ['bc23ff6e-d2ff-aae4-dfd8-e1478e5d1382'], 'meta': {'name': 'Milk', 'url': 'https://harrypotter.fandom.com/wiki/Milk'}}>,\n",
      "    <Answer {'answer': 'Żółte szaty wyjściowe Luny Lov', 'type': 'extractive', 'score': 0.00013114360626786947, 'context': 'wedding was good luck, as believed by her and her father.\\n\\n\\n==Notes and references==\\nru:Желтая мантия Полумны Лавгуд\\npl:Żółte szaty wyjściowe Luny Lov', 'offsets_in_document': [{'start': 420, 'end': 450}], 'offsets_in_context': [{'start': 120, 'end': 150}], 'document_ids': ['147d2f86-3b9d-e322-8765-7f4a9632b5d6'], 'meta': {'name': 'Luna_Lovegood_s_yellow_dress_robes', 'url': \"https://harrypotter.fandom.com/wiki/Luna_Lovegood's_yellow_dress_robes\"}}>]\n"
     ]
    }
   ],
   "source": [
    "print_answers(prediction)"
   ]
  },
  {
   "cell_type": "code",
   "execution_count": null,
   "id": "756c99c8-8f32-4a62-959e-e9669c042c4c",
   "metadata": {},
   "outputs": [],
   "source": []
  }
 ],
 "metadata": {
  "kernelspec": {
   "display_name": "Python 3 (ipykernel)",
   "language": "python",
   "name": "python3"
  },
  "language_info": {
   "codemirror_mode": {
    "name": "ipython",
    "version": 3
   },
   "file_extension": ".py",
   "mimetype": "text/x-python",
   "name": "python",
   "nbconvert_exporter": "python",
   "pygments_lexer": "ipython3",
   "version": "3.10.4"
  }
 },
 "nbformat": 4,
 "nbformat_minor": 5
}
